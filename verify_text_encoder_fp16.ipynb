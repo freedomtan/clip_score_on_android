{
  "nbformat": 4,
  "nbformat_minor": 0,
  "metadata": {
    "colab": {
      "provenance": [],
      "machine_shape": "hm",
      "gpuType": "T4",
      "authorship_tag": "ABX9TyPfPw6VkFOVuwLDq8CafECg",
      "include_colab_link": true
    },
    "kernelspec": {
      "name": "python3",
      "display_name": "Python 3"
    },
    "language_info": {
      "name": "python"
    },
    "accelerator": "GPU",
    "widgets": {
      "application/vnd.jupyter.widget-state+json": {
        "15fdbb2866bd44919b76c8336bcda00f": {
          "model_module": "@jupyter-widgets/controls",
          "model_name": "HBoxModel",
          "model_module_version": "1.5.0",
          "state": {
            "_dom_classes": [],
            "_model_module": "@jupyter-widgets/controls",
            "_model_module_version": "1.5.0",
            "_model_name": "HBoxModel",
            "_view_count": null,
            "_view_module": "@jupyter-widgets/controls",
            "_view_module_version": "1.5.0",
            "_view_name": "HBoxView",
            "box_style": "",
            "children": [
              "IPY_MODEL_b50b82fd6e6946f29ee545086c05970d",
              "IPY_MODEL_08e94fee81254bf9b89c73f59a44a354",
              "IPY_MODEL_39c98cd6fc88426684732d6160e47a69"
            ],
            "layout": "IPY_MODEL_e678ef87b3664665bf736c17af07f226"
          }
        },
        "b50b82fd6e6946f29ee545086c05970d": {
          "model_module": "@jupyter-widgets/controls",
          "model_name": "HTMLModel",
          "model_module_version": "1.5.0",
          "state": {
            "_dom_classes": [],
            "_model_module": "@jupyter-widgets/controls",
            "_model_module_version": "1.5.0",
            "_model_name": "HTMLModel",
            "_view_count": null,
            "_view_module": "@jupyter-widgets/controls",
            "_view_module_version": "1.5.0",
            "_view_name": "HTMLView",
            "description": "",
            "description_tooltip": null,
            "layout": "IPY_MODEL_0993990ea89c40c6b942b44428446226",
            "placeholder": "​",
            "style": "IPY_MODEL_47fe3d0f29314cdaa3d496741b90fd38",
            "value": "Loading pipeline components...: 100%"
          }
        },
        "08e94fee81254bf9b89c73f59a44a354": {
          "model_module": "@jupyter-widgets/controls",
          "model_name": "FloatProgressModel",
          "model_module_version": "1.5.0",
          "state": {
            "_dom_classes": [],
            "_model_module": "@jupyter-widgets/controls",
            "_model_module_version": "1.5.0",
            "_model_name": "FloatProgressModel",
            "_view_count": null,
            "_view_module": "@jupyter-widgets/controls",
            "_view_module_version": "1.5.0",
            "_view_name": "ProgressView",
            "bar_style": "success",
            "description": "",
            "description_tooltip": null,
            "layout": "IPY_MODEL_bc8bcaf09fc643b0a56677466041b594",
            "max": 7,
            "min": 0,
            "orientation": "horizontal",
            "style": "IPY_MODEL_d480417834e34c009c9cc3b76b57b3c4",
            "value": 7
          }
        },
        "39c98cd6fc88426684732d6160e47a69": {
          "model_module": "@jupyter-widgets/controls",
          "model_name": "HTMLModel",
          "model_module_version": "1.5.0",
          "state": {
            "_dom_classes": [],
            "_model_module": "@jupyter-widgets/controls",
            "_model_module_version": "1.5.0",
            "_model_name": "HTMLModel",
            "_view_count": null,
            "_view_module": "@jupyter-widgets/controls",
            "_view_module_version": "1.5.0",
            "_view_name": "HTMLView",
            "description": "",
            "description_tooltip": null,
            "layout": "IPY_MODEL_cbab1d7be75549469a98896ca56a8bcd",
            "placeholder": "​",
            "style": "IPY_MODEL_ac288a3e355b4d02a05f356f5e58f113",
            "value": " 7/7 [00:02&lt;00:00,  3.24it/s]"
          }
        },
        "e678ef87b3664665bf736c17af07f226": {
          "model_module": "@jupyter-widgets/base",
          "model_name": "LayoutModel",
          "model_module_version": "1.2.0",
          "state": {
            "_model_module": "@jupyter-widgets/base",
            "_model_module_version": "1.2.0",
            "_model_name": "LayoutModel",
            "_view_count": null,
            "_view_module": "@jupyter-widgets/base",
            "_view_module_version": "1.2.0",
            "_view_name": "LayoutView",
            "align_content": null,
            "align_items": null,
            "align_self": null,
            "border": null,
            "bottom": null,
            "display": null,
            "flex": null,
            "flex_flow": null,
            "grid_area": null,
            "grid_auto_columns": null,
            "grid_auto_flow": null,
            "grid_auto_rows": null,
            "grid_column": null,
            "grid_gap": null,
            "grid_row": null,
            "grid_template_areas": null,
            "grid_template_columns": null,
            "grid_template_rows": null,
            "height": null,
            "justify_content": null,
            "justify_items": null,
            "left": null,
            "margin": null,
            "max_height": null,
            "max_width": null,
            "min_height": null,
            "min_width": null,
            "object_fit": null,
            "object_position": null,
            "order": null,
            "overflow": null,
            "overflow_x": null,
            "overflow_y": null,
            "padding": null,
            "right": null,
            "top": null,
            "visibility": null,
            "width": null
          }
        },
        "0993990ea89c40c6b942b44428446226": {
          "model_module": "@jupyter-widgets/base",
          "model_name": "LayoutModel",
          "model_module_version": "1.2.0",
          "state": {
            "_model_module": "@jupyter-widgets/base",
            "_model_module_version": "1.2.0",
            "_model_name": "LayoutModel",
            "_view_count": null,
            "_view_module": "@jupyter-widgets/base",
            "_view_module_version": "1.2.0",
            "_view_name": "LayoutView",
            "align_content": null,
            "align_items": null,
            "align_self": null,
            "border": null,
            "bottom": null,
            "display": null,
            "flex": null,
            "flex_flow": null,
            "grid_area": null,
            "grid_auto_columns": null,
            "grid_auto_flow": null,
            "grid_auto_rows": null,
            "grid_column": null,
            "grid_gap": null,
            "grid_row": null,
            "grid_template_areas": null,
            "grid_template_columns": null,
            "grid_template_rows": null,
            "height": null,
            "justify_content": null,
            "justify_items": null,
            "left": null,
            "margin": null,
            "max_height": null,
            "max_width": null,
            "min_height": null,
            "min_width": null,
            "object_fit": null,
            "object_position": null,
            "order": null,
            "overflow": null,
            "overflow_x": null,
            "overflow_y": null,
            "padding": null,
            "right": null,
            "top": null,
            "visibility": null,
            "width": null
          }
        },
        "47fe3d0f29314cdaa3d496741b90fd38": {
          "model_module": "@jupyter-widgets/controls",
          "model_name": "DescriptionStyleModel",
          "model_module_version": "1.5.0",
          "state": {
            "_model_module": "@jupyter-widgets/controls",
            "_model_module_version": "1.5.0",
            "_model_name": "DescriptionStyleModel",
            "_view_count": null,
            "_view_module": "@jupyter-widgets/base",
            "_view_module_version": "1.2.0",
            "_view_name": "StyleView",
            "description_width": ""
          }
        },
        "bc8bcaf09fc643b0a56677466041b594": {
          "model_module": "@jupyter-widgets/base",
          "model_name": "LayoutModel",
          "model_module_version": "1.2.0",
          "state": {
            "_model_module": "@jupyter-widgets/base",
            "_model_module_version": "1.2.0",
            "_model_name": "LayoutModel",
            "_view_count": null,
            "_view_module": "@jupyter-widgets/base",
            "_view_module_version": "1.2.0",
            "_view_name": "LayoutView",
            "align_content": null,
            "align_items": null,
            "align_self": null,
            "border": null,
            "bottom": null,
            "display": null,
            "flex": null,
            "flex_flow": null,
            "grid_area": null,
            "grid_auto_columns": null,
            "grid_auto_flow": null,
            "grid_auto_rows": null,
            "grid_column": null,
            "grid_gap": null,
            "grid_row": null,
            "grid_template_areas": null,
            "grid_template_columns": null,
            "grid_template_rows": null,
            "height": null,
            "justify_content": null,
            "justify_items": null,
            "left": null,
            "margin": null,
            "max_height": null,
            "max_width": null,
            "min_height": null,
            "min_width": null,
            "object_fit": null,
            "object_position": null,
            "order": null,
            "overflow": null,
            "overflow_x": null,
            "overflow_y": null,
            "padding": null,
            "right": null,
            "top": null,
            "visibility": null,
            "width": null
          }
        },
        "d480417834e34c009c9cc3b76b57b3c4": {
          "model_module": "@jupyter-widgets/controls",
          "model_name": "ProgressStyleModel",
          "model_module_version": "1.5.0",
          "state": {
            "_model_module": "@jupyter-widgets/controls",
            "_model_module_version": "1.5.0",
            "_model_name": "ProgressStyleModel",
            "_view_count": null,
            "_view_module": "@jupyter-widgets/base",
            "_view_module_version": "1.2.0",
            "_view_name": "StyleView",
            "bar_color": null,
            "description_width": ""
          }
        },
        "cbab1d7be75549469a98896ca56a8bcd": {
          "model_module": "@jupyter-widgets/base",
          "model_name": "LayoutModel",
          "model_module_version": "1.2.0",
          "state": {
            "_model_module": "@jupyter-widgets/base",
            "_model_module_version": "1.2.0",
            "_model_name": "LayoutModel",
            "_view_count": null,
            "_view_module": "@jupyter-widgets/base",
            "_view_module_version": "1.2.0",
            "_view_name": "LayoutView",
            "align_content": null,
            "align_items": null,
            "align_self": null,
            "border": null,
            "bottom": null,
            "display": null,
            "flex": null,
            "flex_flow": null,
            "grid_area": null,
            "grid_auto_columns": null,
            "grid_auto_flow": null,
            "grid_auto_rows": null,
            "grid_column": null,
            "grid_gap": null,
            "grid_row": null,
            "grid_template_areas": null,
            "grid_template_columns": null,
            "grid_template_rows": null,
            "height": null,
            "justify_content": null,
            "justify_items": null,
            "left": null,
            "margin": null,
            "max_height": null,
            "max_width": null,
            "min_height": null,
            "min_width": null,
            "object_fit": null,
            "object_position": null,
            "order": null,
            "overflow": null,
            "overflow_x": null,
            "overflow_y": null,
            "padding": null,
            "right": null,
            "top": null,
            "visibility": null,
            "width": null
          }
        },
        "ac288a3e355b4d02a05f356f5e58f113": {
          "model_module": "@jupyter-widgets/controls",
          "model_name": "DescriptionStyleModel",
          "model_module_version": "1.5.0",
          "state": {
            "_model_module": "@jupyter-widgets/controls",
            "_model_module_version": "1.5.0",
            "_model_name": "DescriptionStyleModel",
            "_view_count": null,
            "_view_module": "@jupyter-widgets/base",
            "_view_module_version": "1.2.0",
            "_view_name": "StyleView",
            "description_width": ""
          }
        }
      }
    }
  },
  "cells": [
    {
      "cell_type": "markdown",
      "metadata": {
        "id": "view-in-github",
        "colab_type": "text"
      },
      "source": [
        "<a href=\"https://colab.research.google.com/github/freedomtan/clip_score_on_android/blob/main/verify_text_encoder_fp16.ipynb\" target=\"_parent\"><img src=\"https://colab.research.google.com/assets/colab-badge.svg\" alt=\"Open In Colab\"/></a>"
      ]
    },
    {
      "cell_type": "code",
      "source": [
        "!pip install -q diffusers\n",
        "!pip install -q accelerate\n",
        "!pip install -q keras_cv"
      ],
      "metadata": {
        "id": "vISf8N_y1tcs"
      },
      "execution_count": 1,
      "outputs": []
    },
    {
      "cell_type": "code",
      "execution_count": 2,
      "metadata": {
        "colab": {
          "base_uri": "https://localhost:8080/",
          "height": 84,
          "referenced_widgets": [
            "15fdbb2866bd44919b76c8336bcda00f",
            "b50b82fd6e6946f29ee545086c05970d",
            "08e94fee81254bf9b89c73f59a44a354",
            "39c98cd6fc88426684732d6160e47a69",
            "e678ef87b3664665bf736c17af07f226",
            "0993990ea89c40c6b942b44428446226",
            "47fe3d0f29314cdaa3d496741b90fd38",
            "bc8bcaf09fc643b0a56677466041b594",
            "d480417834e34c009c9cc3b76b57b3c4",
            "cbab1d7be75549469a98896ca56a8bcd",
            "ac288a3e355b4d02a05f356f5e58f113"
          ]
        },
        "id": "bsucze-C1i6M",
        "outputId": "5eb8816d-de69-4944-ec54-5c2193ffb34d"
      },
      "outputs": [
        {
          "output_type": "stream",
          "name": "stdout",
          "text": [
            "Using TensorFlow backend\n"
          ]
        },
        {
          "output_type": "display_data",
          "data": {
            "text/plain": [
              "Loading pipeline components...:   0%|          | 0/7 [00:00<?, ?it/s]"
            ],
            "application/vnd.jupyter.widget-view+json": {
              "version_major": 2,
              "version_minor": 0,
              "model_id": "15fdbb2866bd44919b76c8336bcda00f"
            }
          },
          "metadata": {}
        },
        {
          "output_type": "stream",
          "name": "stdout",
          "text": [
            "By using this model checkpoint, you acknowledge that its usage is subject to the terms of the CreativeML Open RAIL-M license at https://raw.githubusercontent.com/CompVis/stable-diffusion/main/LICENSE\n"
          ]
        }
      ],
      "source": [
        "from diffusers import StableDiffusionPipeline\n",
        "import torch\n",
        "\n",
        "import keras_cv\n",
        "import keras\n",
        "\n",
        "model_id = \"runwayml/stable-diffusion-v1-5\"\n",
        "pipe = StableDiffusionPipeline.from_pretrained(model_id, torch_dtype=torch.float16)\n",
        "# pipe = StableDiffusionPipeline.from_pretrained(model_id)\n",
        "pipe = pipe.to(\"cuda\")\n",
        "\n",
        "torch_text_encoder = pipe.text_encoder\n",
        "\n",
        "keras.mixed_precision.set_global_policy(\"mixed_float16\")\n",
        "pipeline = keras_cv.models.StableDiffusion(\n",
        "    img_width=512, img_height=512, jit_compile=True\n",
        ")"
      ]
    },
    {
      "cell_type": "code",
      "source": [
        "first_10_prompts = [\n",
        "    \"A city at night with people walking around.\",\n",
        "    \"The large clock was prominently displaying the time.\",\n",
        "    \"A person in winter gear riding a snowboard.\",\n",
        "    \"A small bird is perched on an empty bird feeder.\",\n",
        "    \"Baseballs players sliding to base and jumping during the game.\",\n",
        "    \"A woman playing tennis in a white outfit\",\n",
        "    \"A woman looking at her phone next to a car being towed.\",\n",
        "    \"A man in a wheelchair and another sitting on a bench that is overlooking the water.\",\n",
        "    \"Rows of motor bikes and helmets in a city\"\n",
        "]"
      ],
      "metadata": {
        "id": "gtzkxVWe2t4t"
      },
      "execution_count": 3,
      "outputs": []
    },
    {
      "cell_type": "code",
      "source": [
        "for p in first_10_prompts:\n",
        "  ids = pipe.tokenizer.encode(p)\n",
        "  id_len = len(ids)\n",
        "  ids_padded = ids + ([49407] * (77 - id_len))\n",
        "\n",
        "  token = torch.unsqueeze(torch.tensor(ids_padded).to(\"cuda\"), 0)\n",
        "  torch_output = torch_text_encoder(input_ids=token).last_hidden_state.cpu().detach().numpy()\n",
        "  tf_output = pipeline.encode_text(p)\n",
        "  print(torch_output - tf_output)"
      ],
      "metadata": {
        "colab": {
          "base_uri": "https://localhost:8080/"
        },
        "id": "ijYDySxJ2hFv",
        "outputId": "a483ea04-63b9-4252-c62a-095cb33021de"
      },
      "execution_count": 4,
      "outputs": [
        {
          "output_type": "stream",
          "name": "stdout",
          "text": [
            "[[[ 0.000e+00  4.578e-05  3.052e-05 ... -2.441e-04  0.000e+00 -6.104e-05]\n",
            "  [ 1.144e-03  9.766e-04  2.441e-04 ...  4.883e-04  4.883e-04  0.000e+00]\n",
            "  [ 9.766e-04 -2.930e-03  3.906e-03 ... -1.953e-03 -1.465e-03 -1.953e-03]\n",
            "  ...\n",
            "  [-2.930e-03 -4.883e-04  1.465e-03 ...  1.221e-03 -4.883e-04 -4.883e-04]\n",
            "  [-1.465e-03 -1.465e-03 -1.343e-03 ...  1.709e-03 -1.221e-03  1.953e-03]\n",
            "  [-2.441e-03 -4.883e-04 -3.418e-03 ...  1.709e-03  0.000e+00 -1.465e-03]]]\n",
            "[[[ 0.000e+00  4.578e-05  3.052e-05 ... -2.441e-04  0.000e+00 -6.104e-05]\n",
            "  [ 1.282e-03 -4.883e-04  0.000e+00 ... -4.883e-04  3.906e-03 -4.883e-04]\n",
            "  [ 9.766e-04 -4.883e-04  2.441e-03 ... -1.465e-03  0.000e+00  2.930e-03]\n",
            "  ...\n",
            "  [-2.197e-03 -4.883e-04 -1.465e-03 ...  0.000e+00 -2.930e-03  1.221e-04]\n",
            "  [-2.930e-03 -2.441e-03 -1.465e-03 ... -9.766e-04  0.000e+00  6.104e-04]\n",
            "  [-1.709e-03  1.465e-03 -9.766e-04 ... -9.766e-04 -9.766e-04  2.441e-03]]]\n",
            "[[[ 0.000e+00  4.578e-05  3.052e-05 ... -2.441e-04  0.000e+00 -6.104e-05]\n",
            "  [ 1.144e-03  9.766e-04  2.441e-04 ...  4.883e-04  4.883e-04  0.000e+00]\n",
            "  [-9.766e-04 -1.587e-03  2.441e-03 ... -3.906e-03 -4.883e-04  1.465e-03]\n",
            "  ...\n",
            "  [ 2.319e-03  0.000e+00  2.441e-03 ... -2.930e-03  0.000e+00  1.953e-03]\n",
            "  [ 1.709e-03 -1.709e-03 -2.441e-04 ... -9.766e-04 -1.221e-03 -1.953e-03]\n",
            "  [ 3.723e-03  1.099e-03  1.709e-03 ... -2.930e-03  0.000e+00  2.930e-03]]]\n",
            "[[[ 0.000e+00  4.578e-05  3.052e-05 ... -2.441e-04  0.000e+00 -6.104e-05]\n",
            "  [ 1.144e-03  9.766e-04  2.441e-04 ...  4.883e-04  4.883e-04  0.000e+00]\n",
            "  [ 0.000e+00 -2.930e-03  1.953e-03 ... -2.441e-04 -7.324e-04 -1.953e-03]\n",
            "  ...\n",
            "  [ 2.441e-03 -1.953e-03 -1.465e-03 ... -1.953e-03  1.984e-03 -1.221e-03]\n",
            "  [-9.766e-04 -1.465e-03 -1.465e-03 ... -1.953e-03  2.686e-03 -7.324e-04]\n",
            "  [ 4.883e-04 -1.465e-03 -1.465e-03 ... -9.766e-04  3.403e-03  1.587e-03]]]\n",
            "[[[ 0.000e+00  4.578e-05  3.052e-05 ... -2.441e-04  0.000e+00 -6.104e-05]\n",
            "  [ 1.465e-03  0.000e+00  7.324e-04 ... -1.801e-03 -2.930e-03  1.221e-03]\n",
            "  [-4.883e-04  2.441e-04  0.000e+00 ...  2.441e-04  4.883e-04  4.883e-04]\n",
            "  ...\n",
            "  [ 0.000e+00  4.883e-04  2.441e-03 ... -3.929e-04  2.441e-04  1.953e-03]\n",
            "  [ 9.766e-04 -1.099e-03  2.441e-03 ...  9.155e-05 -2.441e-03  4.883e-04]\n",
            "  [ 2.686e-03 -1.831e-03  3.418e-03 ...  3.843e-04  9.766e-04  1.953e-03]]]\n",
            "[[[ 0.000e+00  4.578e-05  3.052e-05 ... -2.441e-04  0.000e+00 -6.104e-05]\n",
            "  [ 1.144e-03  9.766e-04  2.441e-04 ...  4.883e-04  4.883e-04  0.000e+00]\n",
            "  [-9.766e-04  4.883e-04  9.766e-04 ...  9.766e-04 -1.221e-03 -1.465e-03]\n",
            "  ...\n",
            "  [-9.766e-04 -4.005e-04 -2.441e-03 ... -1.953e-03 -4.883e-04  1.221e-04]\n",
            "  [ 9.766e-04 -1.511e-03  0.000e+00 ...  9.766e-04 -1.709e-03  1.099e-03]\n",
            "  [ 9.766e-04  5.188e-04 -4.395e-03 ...  0.000e+00 -1.709e-03 -3.052e-03]]]\n",
            "[[[ 0.000e+00  4.578e-05  3.052e-05 ... -2.441e-04  0.000e+00 -6.104e-05]\n",
            "  [ 1.144e-03  9.766e-04  2.441e-04 ...  4.883e-04  4.883e-04  0.000e+00]\n",
            "  [-9.766e-04  4.883e-04  9.766e-04 ...  9.766e-04 -1.221e-03 -1.465e-03]\n",
            "  ...\n",
            "  [ 1.953e-03  1.221e-03 -2.930e-03 ...  9.766e-04 -1.854e-03  3.418e-03]\n",
            "  [-2.441e-04  1.221e-03 -1.465e-03 ... -4.883e-04 -2.220e-03  7.324e-04]\n",
            "  [ 2.930e-03  1.465e-03 -2.441e-03 ... -4.883e-04 -1.648e-03  2.686e-03]]]\n",
            "[[[ 0.000e+00  4.578e-05  3.052e-05 ... -2.441e-04  0.000e+00 -6.104e-05]\n",
            "  [ 1.144e-03  9.766e-04  2.441e-04 ...  4.883e-04  4.883e-04  0.000e+00]\n",
            "  [ 1.465e-03 -1.587e-03 -8.087e-04 ... -9.766e-04 -4.883e-04  4.883e-04]\n",
            "  ...\n",
            "  [ 2.441e-03  1.480e-03  2.441e-03 ...  9.766e-04 -4.883e-04 -2.197e-03]\n",
            "  [-9.766e-04  1.144e-03  1.465e-03 ...  1.953e-03  1.953e-03 -2.686e-03]\n",
            "  [ 3.418e-03  1.190e-03  1.953e-03 ... -9.766e-04  2.441e-04 -1.709e-03]]]\n",
            "[[[ 0.000e+00  4.578e-05  3.052e-05 ... -2.441e-04  0.000e+00 -6.104e-05]\n",
            "  [ 1.953e-03  1.831e-03  4.211e-03 ...  9.155e-04  9.766e-04  2.441e-04]\n",
            "  [-1.465e-03  2.197e-03  1.953e-03 ...  4.395e-03  2.747e-03  0.000e+00]\n",
            "  ...\n",
            "  [ 0.000e+00 -1.465e-03 -1.465e-03 ...  4.883e-04 -4.883e-04 -1.465e-03]\n",
            "  [ 0.000e+00 -4.883e-04 -1.953e-03 ...  1.953e-03 -2.930e-03 -1.953e-03]\n",
            "  [ 0.000e+00  2.441e-03 -2.930e-03 ...  6.104e-04 -2.441e-03 -1.953e-03]]]\n"
          ]
        }
      ]
    }
  ]
}